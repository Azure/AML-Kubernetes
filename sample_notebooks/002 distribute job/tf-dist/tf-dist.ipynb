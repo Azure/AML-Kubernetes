{
 "cells": [
  {
   "cell_type": "code",
   "execution_count": 1,
   "metadata": {},
   "outputs": [
    {
     "name": "stdout",
     "output_type": "stream",
     "text": [
      "The azureml-sdk version is 1.6.0\n"
     ]
    }
   ],
   "source": [
    "import os\n",
    "from azureml.core import Workspace\n",
    "from azureml.core import Experiment\n",
    "from azureml.core.compute import ComputeTarget\n",
    "from azureml.contrib.core.compute.itpcompute import ItpCompute\n",
    "from azureml.core.container_registry import ContainerRegistry\n",
    "from azureml.core.runconfig import TensorflowConfiguration\n",
    "from azureml.train.dnn import TensorFlow\n",
    "import azureml.core\n",
    "print(f\"The azureml-sdk version is {azureml.core.VERSION}\")"
   ]
  },
  {
   "cell_type": "code",
   "execution_count": 2,
   "metadata": {},
   "outputs": [],
   "source": [
    "container_registry = ContainerRegistry()\n",
    "container_registry.address = 'philly2aml.azurecr.io'\n",
    "container_registry.username = 'philly2aml'\n",
    "container_registry.password = 'CiuybPECAy1UOvXGyC91ujZm3FU6V5d/'\n",
    "script_folder = './tf-mnist'"
   ]
  },
  {
   "cell_type": "code",
   "execution_count": 3,
   "metadata": {},
   "outputs": [
    {
     "name": "stderr",
     "output_type": "stream",
     "text": [
      "WARNING - Warning: Falling back to use azure cli login credentials.\n",
      "If you run your code in unattended mode, i.e., where you can't give a user input, then we recommend to use ServicePrincipalAuthentication or MsiAuthentication.\n",
      "Please refer to aka.ms/aml-notebook-auth for different authentication mechanisms in azureml-sdk.\n"
     ]
    }
   ],
   "source": [
    "ws = Workspace.from_config()"
   ]
  },
  {
   "cell_type": "code",
   "execution_count": 4,
   "metadata": {},
   "outputs": [
    {
     "data": {
      "text/plain": [
       "Workspace.create(name='cmaksphillywestcentralus', subscription_id='06237282-1ddd-4677-9878-5bc19cc0001a', resource_group='ITPTestingWorkers')"
      ]
     },
     "execution_count": 4,
     "metadata": {},
     "output_type": "execute_result"
    }
   ],
   "source": [
    "ws"
   ]
  },
  {
   "cell_type": "code",
   "execution_count": 5,
   "metadata": {},
   "outputs": [],
   "source": [
    "compute_name = 'cmakstestgpu2'\n",
    "cmaks_compute = ComputeTarget(workspace=ws, name=compute_name)"
   ]
  },
  {
   "cell_type": "code",
   "execution_count": 6,
   "metadata": {},
   "outputs": [],
   "source": [
    "exp = Experiment(workspace=ws, name='tf-mnist-prebuild')"
   ]
  },
  {
   "cell_type": "code",
   "execution_count": 8,
   "metadata": {},
   "outputs": [
    {
     "name": "stderr",
     "output_type": "stream",
     "text": [
      "WARNING - 'process_count_per_node' parameter will be deprecated. Please use it as part of 'distributed_training' parameter.\n",
      "WARNING - 'process_count_per_node' parameter will be used only in combination with 'distributed_backend' parameter. As both these parameters are to be deprecated, please use 'distributed_training' parameter and set 'process_count_per_node' on that object.\n"
     ]
    },
    {
     "ename": "TrainingException",
     "evalue": "TrainingException:\n\tMessage: 'distributed_backend' or 'distributed_training' must be specified when node_count > 1 or process_count_per_node > 1.\n\tInnerException None\n\tErrorResponse \n{\n    \"error\": {\n        \"message\": \"'distributed_backend' or 'distributed_training' must be specified when node_count > 1 or process_count_per_node > 1.\"\n    }\n}",
     "output_type": "error",
     "traceback": [
      "\u001b[1;31m---------------------------------------------------------------------------\u001b[0m",
      "\u001b[1;31mTrainingException\u001b[0m                         Traceback (most recent call last)",
      "\u001b[1;32m<ipython-input-8-d9e09f54f8ee>\u001b[0m in \u001b[0;36m<module>\u001b[1;34m\u001b[0m\n\u001b[0;32m     11\u001b[0m \u001b[0mdistributed_training\u001b[0m\u001b[1;33m.\u001b[0m\u001b[0mworker_count\u001b[0m \u001b[1;33m=\u001b[0m \u001b[1;36m2\u001b[0m\u001b[1;33m\u001b[0m\u001b[1;33m\u001b[0m\u001b[0m\n\u001b[0;32m     12\u001b[0m \u001b[1;31m# distributed_training.process_count_per_node = 2\u001b[0m\u001b[1;33m\u001b[0m\u001b[1;33m\u001b[0m\u001b[1;33m\u001b[0m\u001b[0m\n\u001b[1;32m---> 13\u001b[1;33m tf_est = TensorFlow(source_directory=script_folder,\n\u001b[0m\u001b[0;32m     14\u001b[0m                     \u001b[0mentry_script\u001b[0m\u001b[1;33m=\u001b[0m\u001b[1;34m'tf_mnist_dist.py'\u001b[0m\u001b[1;33m,\u001b[0m\u001b[1;33m\u001b[0m\u001b[1;33m\u001b[0m\u001b[0m\n\u001b[0;32m     15\u001b[0m                     \u001b[0mcompute_target\u001b[0m\u001b[1;33m=\u001b[0m\u001b[0mcmaks_compute\u001b[0m\u001b[1;33m,\u001b[0m\u001b[1;33m\u001b[0m\u001b[1;33m\u001b[0m\u001b[0m\n",
      "\u001b[1;32mc:\\python38\\lib\\site-packages\\azureml\\core\\_experiment_method.py\u001b[0m in \u001b[0;36mwrapper\u001b[1;34m(self, *args, **kwargs)\u001b[0m\n\u001b[0;32m     91\u001b[0m             \"\"\"\n\u001b[0;32m     92\u001b[0m             \u001b[0mExperimentSubmitRegistrar\u001b[0m\u001b[1;33m.\u001b[0m\u001b[0mregister_submit_function\u001b[0m\u001b[1;33m(\u001b[0m\u001b[0mself\u001b[0m\u001b[1;33m.\u001b[0m\u001b[0m__class__\u001b[0m\u001b[1;33m,\u001b[0m \u001b[0msubmit_function\u001b[0m\u001b[1;33m)\u001b[0m\u001b[1;33m\u001b[0m\u001b[1;33m\u001b[0m\u001b[0m\n\u001b[1;32m---> 93\u001b[1;33m             \u001b[1;32mreturn\u001b[0m \u001b[0minit_func\u001b[0m\u001b[1;33m(\u001b[0m\u001b[0mself\u001b[0m\u001b[1;33m,\u001b[0m \u001b[1;33m*\u001b[0m\u001b[0margs\u001b[0m\u001b[1;33m,\u001b[0m \u001b[1;33m**\u001b[0m\u001b[0mkwargs\u001b[0m\u001b[1;33m)\u001b[0m\u001b[1;33m\u001b[0m\u001b[1;33m\u001b[0m\u001b[0m\n\u001b[0m\u001b[0;32m     94\u001b[0m         \u001b[1;32mreturn\u001b[0m \u001b[0mwrapper\u001b[0m\u001b[1;33m\u001b[0m\u001b[1;33m\u001b[0m\u001b[0m\n\u001b[0;32m     95\u001b[0m     \u001b[1;32mreturn\u001b[0m \u001b[0mreal_decorator\u001b[0m\u001b[1;33m\u001b[0m\u001b[1;33m\u001b[0m\u001b[0m\n",
      "\u001b[1;32mc:\\python38\\lib\\site-packages\\azureml\\train\\dnn\\_tensorflow.py\u001b[0m in \u001b[0;36m__init__\u001b[1;34m(self, source_directory, compute_target, vm_size, vm_priority, entry_script, script_params, node_count, process_count_per_node, worker_count, parameter_server_count, distributed_backend, distributed_training, use_gpu, use_docker, custom_docker_base_image, custom_docker_image, image_registry_details, user_managed, conda_packages, pip_packages, conda_dependencies_file_path, pip_requirements_file_path, conda_dependencies_file, pip_requirements_file, environment_variables, environment_definition, inputs, source_directory_data_store, shm_size, resume_from, max_run_duration_seconds, framework_version, _enable_optimized_mode, _disable_validation, _show_lint_warnings, _show_package_warnings)\u001b[0m\n\u001b[0;32m    422\u001b[0m                             \"'parameter_server_count' and 'worker_count' on that object.\")\n\u001b[0;32m    423\u001b[0m \u001b[1;33m\u001b[0m\u001b[0m\n\u001b[1;32m--> 424\u001b[1;33m         super().__init__(source_directory, compute_target=compute_target, vm_size=vm_size,\n\u001b[0m\u001b[0;32m    425\u001b[0m                          \u001b[0mvm_priority\u001b[0m\u001b[1;33m=\u001b[0m\u001b[0mvm_priority\u001b[0m\u001b[1;33m,\u001b[0m \u001b[0mentry_script\u001b[0m\u001b[1;33m=\u001b[0m\u001b[0mentry_script\u001b[0m\u001b[1;33m,\u001b[0m\u001b[1;33m\u001b[0m\u001b[1;33m\u001b[0m\u001b[0m\n\u001b[0;32m    426\u001b[0m                          \u001b[0mscript_params\u001b[0m\u001b[1;33m=\u001b[0m\u001b[0mscript_params\u001b[0m\u001b[1;33m,\u001b[0m \u001b[0mnode_count\u001b[0m\u001b[1;33m=\u001b[0m\u001b[0mnode_count\u001b[0m\u001b[1;33m,\u001b[0m\u001b[1;33m\u001b[0m\u001b[1;33m\u001b[0m\u001b[0m\n",
      "\u001b[1;32mc:\\python38\\lib\\site-packages\\azureml\\core\\_experiment_method.py\u001b[0m in \u001b[0;36mwrapper\u001b[1;34m(self, *args, **kwargs)\u001b[0m\n\u001b[0;32m     91\u001b[0m             \"\"\"\n\u001b[0;32m     92\u001b[0m             \u001b[0mExperimentSubmitRegistrar\u001b[0m\u001b[1;33m.\u001b[0m\u001b[0mregister_submit_function\u001b[0m\u001b[1;33m(\u001b[0m\u001b[0mself\u001b[0m\u001b[1;33m.\u001b[0m\u001b[0m__class__\u001b[0m\u001b[1;33m,\u001b[0m \u001b[0msubmit_function\u001b[0m\u001b[1;33m)\u001b[0m\u001b[1;33m\u001b[0m\u001b[1;33m\u001b[0m\u001b[0m\n\u001b[1;32m---> 93\u001b[1;33m             \u001b[1;32mreturn\u001b[0m \u001b[0minit_func\u001b[0m\u001b[1;33m(\u001b[0m\u001b[0mself\u001b[0m\u001b[1;33m,\u001b[0m \u001b[1;33m*\u001b[0m\u001b[0margs\u001b[0m\u001b[1;33m,\u001b[0m \u001b[1;33m**\u001b[0m\u001b[0mkwargs\u001b[0m\u001b[1;33m)\u001b[0m\u001b[1;33m\u001b[0m\u001b[1;33m\u001b[0m\u001b[0m\n\u001b[0m\u001b[0;32m     94\u001b[0m         \u001b[1;32mreturn\u001b[0m \u001b[0mwrapper\u001b[0m\u001b[1;33m\u001b[0m\u001b[1;33m\u001b[0m\u001b[0m\n\u001b[0;32m     95\u001b[0m     \u001b[1;32mreturn\u001b[0m \u001b[0mreal_decorator\u001b[0m\u001b[1;33m\u001b[0m\u001b[1;33m\u001b[0m\u001b[0m\n",
      "\u001b[1;32mc:\\python38\\lib\\site-packages\\azureml\\train\\estimator\\_framework_base_estimator.py\u001b[0m in \u001b[0;36m__init__\u001b[1;34m(self, source_directory, compute_target, vm_size, vm_priority, entry_script, script_params, node_count, process_count_per_node, distributed_backend, distributed_training, use_gpu, use_docker, custom_docker_base_image, custom_docker_image, image_registry_details, user_managed, conda_packages, pip_packages, conda_dependencies_file_path, pip_requirements_file_path, conda_dependencies_file, pip_requirements_file, environment_variables, environment_definition, inputs, source_directory_data_store, shm_size, resume_from, max_run_duration_seconds, framework_name, framework_version, _enable_optimized_mode, _disable_validation, _show_lint_warnings, _show_package_warnings)\u001b[0m\n\u001b[0;32m    102\u001b[0m \u001b[1;33m\u001b[0m\u001b[0m\n\u001b[0;32m    103\u001b[0m         \u001b[0mself\u001b[0m\u001b[1;33m.\u001b[0m\u001b[0m_estimator_config\u001b[0m \u001b[1;33m=\u001b[0m\u001b[0;31m \u001b[0m\u001b[0;31m\\\u001b[0m\u001b[1;33m\u001b[0m\u001b[1;33m\u001b[0m\u001b[0m\n\u001b[1;32m--> 104\u001b[1;33m             _init_run_config(estimator=self, source_directory=source_directory, compute_target=compute_target,\n\u001b[0m\u001b[0;32m    105\u001b[0m                              \u001b[0mvm_size\u001b[0m\u001b[1;33m=\u001b[0m\u001b[0mvm_size\u001b[0m\u001b[1;33m,\u001b[0m \u001b[0mvm_priority\u001b[0m\u001b[1;33m=\u001b[0m\u001b[0mvm_priority\u001b[0m\u001b[1;33m,\u001b[0m \u001b[0mentry_script\u001b[0m\u001b[1;33m=\u001b[0m\u001b[0mentry_script\u001b[0m\u001b[1;33m,\u001b[0m\u001b[1;33m\u001b[0m\u001b[1;33m\u001b[0m\u001b[0m\n\u001b[0;32m    106\u001b[0m                              \u001b[0mscript_params\u001b[0m\u001b[1;33m=\u001b[0m\u001b[0mscript_params\u001b[0m\u001b[1;33m,\u001b[0m \u001b[0mnode_count\u001b[0m\u001b[1;33m=\u001b[0m\u001b[0mnode_count\u001b[0m\u001b[1;33m,\u001b[0m\u001b[1;33m\u001b[0m\u001b[1;33m\u001b[0m\u001b[0m\n",
      "\u001b[1;32mc:\\python38\\lib\\site-packages\\azureml\\contrib\\core\\_hooks.py\u001b[0m in \u001b[0;36m_init_run_config_hook\u001b[1;34m(estimator, source_directory, compute_target, vm_size, vm_priority, entry_script, script_params, node_count, process_count_per_node, distributed_backend, distributed_training, use_gpu, use_docker, custom_docker_base_image, custom_docker_image, image_registry_details, user_managed, conda_packages, pip_packages, conda_dependencies_file_path, pip_requirements_file_path, conda_dependencies_file, pip_requirements_file, environment_variables, environment_definition, inputs, source_directory_data_store, shm_size, resume_from, max_run_duration_seconds)\u001b[0m\n\u001b[0;32m    483\u001b[0m                           \u001b[0msource_directory_data_store\u001b[0m\u001b[1;33m=\u001b[0m\u001b[1;32mNone\u001b[0m\u001b[1;33m,\u001b[0m \u001b[0mshm_size\u001b[0m\u001b[1;33m=\u001b[0m\u001b[1;32mNone\u001b[0m\u001b[1;33m,\u001b[0m \u001b[0mresume_from\u001b[0m\u001b[1;33m=\u001b[0m\u001b[1;32mNone\u001b[0m\u001b[1;33m,\u001b[0m\u001b[1;33m\u001b[0m\u001b[1;33m\u001b[0m\u001b[0m\n\u001b[0;32m    484\u001b[0m                           max_run_duration_seconds=None):\n\u001b[1;32m--> 485\u001b[1;33m     esth._validate_run_config_parameters(estimator, compute_target, vm_size, node_count, process_count_per_node,\n\u001b[0m\u001b[0;32m    486\u001b[0m                                          \u001b[0mdistributed_backend\u001b[0m\u001b[1;33m,\u001b[0m \u001b[0mdistributed_training\u001b[0m\u001b[1;33m,\u001b[0m \u001b[0muse_gpu\u001b[0m\u001b[1;33m,\u001b[0m \u001b[0muse_docker\u001b[0m\u001b[1;33m,\u001b[0m\u001b[1;33m\u001b[0m\u001b[1;33m\u001b[0m\u001b[0m\n\u001b[0;32m    487\u001b[0m                                          \u001b[0mcustom_docker_base_image\u001b[0m\u001b[1;33m,\u001b[0m \u001b[0mcustom_docker_image\u001b[0m\u001b[1;33m,\u001b[0m \u001b[0mimage_registry_details\u001b[0m\u001b[1;33m,\u001b[0m\u001b[1;33m\u001b[0m\u001b[1;33m\u001b[0m\u001b[0m\n",
      "\u001b[1;32mc:\\python38\\lib\\site-packages\\azureml\\contrib\\core\\_hooks.py\u001b[0m in \u001b[0;36m_validate_run_config_parameters_hook\u001b[1;34m(estimator, compute_target, vm_size, node_count, process_count_per_node, distributed_backend, distributed_training, use_gpu, use_docker, custom_docker_base_image, custom_docker_image, image_registry_details, user_managed, conda_packages, pip_packages, conda_dependencies_file_path, pip_requirements_file_path, conda_dependencies_file, pip_requirements_file, environment_variables, environment_definition, shm_size)\u001b[0m\n\u001b[0;32m    446\u001b[0m \u001b[1;33m\u001b[0m\u001b[0m\n\u001b[0;32m    447\u001b[0m     \u001b[1;32mif\u001b[0m \u001b[1;32mnot\u001b[0m \u001b[0mdistributed_backend\u001b[0m \u001b[1;32mand\u001b[0m \u001b[1;32mnot\u001b[0m \u001b[0mdistributed_training\u001b[0m \u001b[1;32mand\u001b[0m \u001b[1;33m(\u001b[0m\u001b[0mnode_count\u001b[0m \u001b[1;33m>\u001b[0m \u001b[1;36m1\u001b[0m \u001b[1;32mor\u001b[0m \u001b[0mprocess_count_per_node\u001b[0m \u001b[1;33m>\u001b[0m \u001b[1;36m1\u001b[0m\u001b[1;33m)\u001b[0m\u001b[1;33m:\u001b[0m\u001b[1;33m\u001b[0m\u001b[1;33m\u001b[0m\u001b[0m\n\u001b[1;32m--> 448\u001b[1;33m         raise TrainingException(\"'distributed_backend' or 'distributed_training' must be specified when \"\n\u001b[0m\u001b[0;32m    449\u001b[0m                                 \"node_count > 1 or process_count_per_node > 1.\")\n\u001b[0;32m    450\u001b[0m \u001b[1;33m\u001b[0m\u001b[0m\n",
      "\u001b[1;31mTrainingException\u001b[0m: TrainingException:\n\tMessage: 'distributed_backend' or 'distributed_training' must be specified when node_count > 1 or process_count_per_node > 1.\n\tInnerException None\n\tErrorResponse \n{\n    \"error\": {\n        \"message\": \"'distributed_backend' or 'distributed_training' must be specified when node_count > 1 or process_count_per_node > 1.\"\n    }\n}"
     ]
    }
   ],
   "source": [
    "# Dockerfile for tf-dist-mnist-test\n",
    "#\n",
    "# ```\n",
    "# FROM tensorflow/tensorflow:1.15.0-gpu-py3\n",
    "# RUN pip install azureml.core\n",
    "#\n",
    "# ```\n",
    "\n",
    "distributed_training = TensorflowConfiguration()\n",
    "distributed_training.parameter_server_count = 1\n",
    "distributed_training.worker_count = 2\n",
    "# distributed_training.process_count_per_node = 2\n",
    "tf_est = TensorFlow(source_directory=script_folder,\n",
    "                    entry_script='tf_mnist_dist.py',\n",
    "                    compute_target=cmaks_compute,\n",
    "                    image_registry_details=container_registry,\n",
    "                    custom_docker_image=\"tensorflow-test/tf-dist-mnist-test:gpu\",\n",
    "                    user_managed=True,\n",
    "                    node_count=3,\n",
    "                    process_count_per_node=2,\n",
    "#                     distributed_training=distributed_training,\n",
    "                    use_gpu=True)"
   ]
  },
  {
   "cell_type": "code",
   "execution_count": null,
   "metadata": {},
   "outputs": [],
   "source": [
    "run = exp.submit(tf_est)"
   ]
  },
  {
   "cell_type": "code",
   "execution_count": null,
   "metadata": {},
   "outputs": [],
   "source": [
    "# run.wait_for_completion(show_output=True)"
   ]
  },
  {
   "cell_type": "code",
   "execution_count": null,
   "metadata": {},
   "outputs": [],
   "source": [
    "# for i in range(50):\n",
    "#     run = exp.submit(tf_est)"
   ]
  },
  {
   "cell_type": "code",
   "execution_count": null,
   "metadata": {},
   "outputs": [],
   "source": []
  }
 ],
 "metadata": {
  "kernelspec": {
   "display_name": "Python 3",
   "language": "python",
   "name": "python3"
  },
  "language_info": {
   "codemirror_mode": {
    "name": "ipython",
    "version": 3
   },
   "file_extension": ".py",
   "mimetype": "text/x-python",
   "name": "python",
   "nbconvert_exporter": "python",
   "pygments_lexer": "ipython3",
   "version": "3.8.2"
  }
 },
 "nbformat": 4,
 "nbformat_minor": 4
}

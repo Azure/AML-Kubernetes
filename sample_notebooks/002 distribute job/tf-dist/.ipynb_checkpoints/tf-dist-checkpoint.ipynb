{
 "cells": [
  {
   "cell_type": "code",
   "execution_count": 1,
   "metadata": {},
   "outputs": [
    {
     "name": "stdout",
     "output_type": "stream",
     "text": [
      "The azureml-sdk version is 1.6.0\n"
     ]
    }
   ],
   "source": [
    "import os\n",
    "from azureml.core import Workspace\n",
    "from azureml.core import Experiment\n",
    "from azureml.core.compute import ComputeTarget\n",
    "from azureml.contrib.core.compute.itpcompute import ItpCompute\n",
    "from azureml.core.container_registry import ContainerRegistry\n",
    "from azureml.core.runconfig import TensorflowConfiguration\n",
    "from azureml.train.dnn import TensorFlow\n",
    "import azureml.core\n",
    "print(f\"The azureml-sdk version is {azureml.core.VERSION}\")"
   ]
  },
  {
   "cell_type": "code",
   "execution_count": 2,
   "metadata": {},
   "outputs": [],
   "source": [
    "container_registry = ContainerRegistry()\n",
    "container_registry.address = 'philly2aml.azurecr.io'\n",
    "container_registry.username = 'philly2aml'\n",
    "container_registry.password = 'CiuybPECAy1UOvXGyC91ujZm3FU6V5d/'\n",
    "script_folder = './tf-mnist'"
   ]
  },
  {
   "cell_type": "code",
   "execution_count": 3,
   "metadata": {},
   "outputs": [
    {
     "name": "stderr",
     "output_type": "stream",
     "text": [
      "WARNING - Warning: Falling back to use azure cli login credentials.\n",
      "If you run your code in unattended mode, i.e., where you can't give a user input, then we recommend to use ServicePrincipalAuthentication or MsiAuthentication.\n",
      "Please refer to aka.ms/aml-notebook-auth for different authentication mechanisms in azureml-sdk.\n"
     ]
    }
   ],
   "source": [
    "ws = Workspace.from_config()"
   ]
  },
  {
   "cell_type": "code",
   "execution_count": 4,
   "metadata": {},
   "outputs": [
    {
     "data": {
      "text/plain": [
       "Workspace.create(name='cmaksphillywestcentralus', subscription_id='06237282-1ddd-4677-9878-5bc19cc0001a', resource_group='ITPTestingWorkers')"
      ]
     },
     "execution_count": 4,
     "metadata": {},
     "output_type": "execute_result"
    }
   ],
   "source": [
    "ws"
   ]
  },
  {
   "cell_type": "code",
   "execution_count": 5,
   "metadata": {},
   "outputs": [],
   "source": [
    "compute_name = 'cmakstestgpu2'\n",
    "cmaks_compute = ComputeTarget(workspace=ws, name=compute_name)"
   ]
  },
  {
   "cell_type": "code",
   "execution_count": 6,
   "metadata": {},
   "outputs": [],
   "source": [
    "exp = Experiment(workspace=ws, name='tf-mnist-prebuild')"
   ]
  },
  {
   "cell_type": "code",
   "execution_count": 11,
   "metadata": {},
   "outputs": [
    {
     "name": "stderr",
     "output_type": "stream",
     "text": [
      "WARNING - 'process_count_per_node' parameter will be deprecated. Please use it as part of 'distributed_training' parameter.\n",
      "WARNING - 'process_count_per_node' parameter will be used only in combination with 'distributed_backend' parameter. As both these parameters are to be deprecated, please use 'distributed_training' parameter and set 'process_count_per_node' on that object.\n"
     ]
    }
   ],
   "source": [
    "# Dockerfile for tf-dist-mnist-test\n",
    "#\n",
    "# ```\n",
    "# FROM tensorflow/tensorflow:1.15.0-gpu-py3\n",
    "# RUN pip install azureml.core\n",
    "#\n",
    "# ```\n",
    "\n",
    "distributed_training = TensorflowConfiguration()\n",
    "distributed_training.parameter_server_count = 1\n",
    "distributed_training.worker_count = 2\n",
    "tf_est = TensorFlow(source_directory=script_folder,\n",
    "                    entry_script='tf_mnist_dist.py',\n",
    "                    compute_target=cmaks_compute,\n",
    "                    image_registry_details=container_registry,\n",
    "                    custom_docker_image=\"tensorflow-test/tf-dist-mnist-test:gpu\",\n",
    "                    user_managed=True,\n",
    "                    node_count=3,\n",
    "                    process_count_per_node=2,\n",
    "                    distributed_training=distributed_training,\n",
    "                    use_gpu=True)"
   ]
  },
  {
   "cell_type": "code",
   "execution_count": 12,
   "metadata": {},
   "outputs": [],
   "source": [
    "run = exp.submit(tf_est)"
   ]
  },
  {
   "cell_type": "code",
   "execution_count": 9,
   "metadata": {},
   "outputs": [],
   "source": [
    "# run.wait_for_completion(show_output=True)"
   ]
  },
  {
   "cell_type": "code",
   "execution_count": 10,
   "metadata": {},
   "outputs": [],
   "source": [
    "# for i in range(50):\n",
    "#     run = exp.submit(tf_est)"
   ]
  },
  {
   "cell_type": "code",
   "execution_count": null,
   "metadata": {},
   "outputs": [],
   "source": []
  }
 ],
 "metadata": {
  "kernelspec": {
   "display_name": "Python 3",
   "language": "python",
   "name": "python3"
  },
  "language_info": {
   "codemirror_mode": {
    "name": "ipython",
    "version": 3
   },
   "file_extension": ".py",
   "mimetype": "text/x-python",
   "name": "python",
   "nbconvert_exporter": "python",
   "pygments_lexer": "ipython3",
   "version": "3.8.2"
  }
 },
 "nbformat": 4,
 "nbformat_minor": 4
}

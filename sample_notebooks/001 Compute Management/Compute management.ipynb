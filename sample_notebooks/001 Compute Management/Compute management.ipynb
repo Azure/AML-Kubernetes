{
 "cells": [
  {
   "cell_type": "markdown",
   "metadata": {},
   "source": [
    "Copyright (c) Microsoft Corporation. All rights reserved.\n",
    "\n",
    "Licensed under the MIT License."
   ]
  },
  {
   "cell_type": "markdown",
   "metadata": {},
   "source": [
    "![Impressions](https://PixelServer20190423114238.azurewebsites.net/api/impressions/CMK8s-Samples/sample_notebooks/001%20Compute%20Management/Compute%20management.png)"
   ]
  },
  {
   "cell_type": "markdown",
   "metadata": {},
   "source": [
    "# Managing CMAKS compute target\n",
    "In this tutorial, you will learn how to attach and utilize a CMAKS compute target via Python SDK.\n"
   ]
  },
  {
   "cell_type": "markdown",
   "metadata": {},
   "source": [
    "## Prerequisites\n",
    "* install AML SDK\n",
    "\n",
    "    ``` pip install --upgrade azureml-sdk --upgrade ```\n",
    "\n",
    "* install CMAKS SDK\n",
    "\n",
    "    ``` pip install --disable-pip-version-check --extra-index-url https://azuremlsdktestpypi.azureedge.net/CmAks-Compute-Test/D58E86006C65 azureml-pipeline-steps azureml-contrib-pipeline-steps azureml-contrib-k8s --upgrade ```"
   ]
  },
  {
   "cell_type": "markdown",
   "metadata": {},
   "source": [
    "## Config workspace and compute context"
   ]
  },
  {
   "cell_type": "code",
   "execution_count": null,
   "metadata": {},
   "outputs": [],
   "source": [
    "from azureml.contrib.core.compute.cmakscompute import CmAksCompute"
   ]
  },
  {
   "cell_type": "code",
   "execution_count": null,
   "metadata": {},
   "outputs": [],
   "source": [
    "from azureml.core import Workspace"
   ]
  },
  {
   "cell_type": "code",
   "execution_count": null,
   "metadata": {},
   "outputs": [],
   "source": [
    "ws = Workspace.from_config()"
   ]
  },
  {
   "cell_type": "code",
   "execution_count": null,
   "metadata": {},
   "outputs": [],
   "source": [
    "ws"
   ]
  },
  {
   "cell_type": "code",
   "execution_count": null,
   "metadata": {},
   "outputs": [],
   "source": [
    "# define variables needed\n",
    "cluster_name = <cluster_name> # aks clutser name in the same sub\n",
    "resource_group = <resource_group> # resource group of this aks cluster\n",
    "node_pool = <node_pool> # node pool of this aks clutser which used to attached with this workspace\n",
    "compute_name = <compute_name> # compute name"
   ]
  },
  {
   "cell_type": "markdown",
   "metadata": {},
   "source": [
    "## Manage CMAKS compute target\n",
    "Including attach, detach and validate cmaks compute target, submit job via script to cmaks compute."
   ]
  },
  {
   "cell_type": "code",
   "execution_count": null,
   "metadata": {},
   "outputs": [],
   "source": [
    "attach_config = CmAksCompute.attach_configuration(node_pool=node_pool \n",
    "                                                  , resource_group =resource_group                                                 \n",
    "                                                  , cluster_name =cluster_name\n",
    "                                                 ) "
   ]
  },
  {
   "cell_type": "code",
   "execution_count": null,
   "metadata": {},
   "outputs": [],
   "source": [
    "# attach compute\n",
    "cmaks_target = CmAksCompute.attach(ws, compute_name, attach_config)"
   ]
  },
  {
   "cell_type": "code",
   "execution_count": null,
   "metadata": {},
   "outputs": [],
   "source": [
    "# validate whether compute is attached\n",
    "print(\"compute targets after attach:\\n\")\n",
    "for targetName in ws.compute_targets:\n",
    "    print(targetName)"
   ]
  },
  {
   "cell_type": "code",
   "execution_count": null,
   "metadata": {},
   "outputs": [],
   "source": [
    "from azureml.core import Experiment\n",
    "experiment_name = \"compute_mgnt\"\n",
    "experiment = Experiment(workspace = ws, name = experiment_name)"
   ]
  },
  {
   "cell_type": "code",
   "execution_count": null,
   "metadata": {},
   "outputs": [],
   "source": [
    "from azureml.core.compute import ComputeTarget, AmlCompute\n",
    "from azureml.core.compute_target import ComputeTargetException\n",
    "from azureml.contrib.core.compute.cmakscompute import CmAksCompute\n",
    "# Choose a name for cmaks compute\n",
    "compute_name = 'cpucompute'\n",
    "cmaks_compute = ComputeTarget(workspace=ws, name=compute_name)"
   ]
  },
  {
   "cell_type": "code",
   "execution_count": null,
   "metadata": {},
   "outputs": [],
   "source": [
    "project_folder = '.'\n",
    "script = 'hello.py'"
   ]
  },
  {
   "cell_type": "code",
   "execution_count": null,
   "metadata": {},
   "outputs": [],
   "source": [
    "from azureml.core import ScriptRunConfig\n",
    "\n",
    "src = ScriptRunConfig(source_directory=project_folder, script=script)\n",
    "\n",
    "# Set compute target to the one created in previous step\n",
    "src.run_config.target = cmaks_compute\n",
    "# Submit run\n",
    "run = experiment.submit(config=src)\n",
    "run.wait_for_completion(show_output=True)"
   ]
  },
  {
   "cell_type": "code",
   "execution_count": null,
   "metadata": {},
   "outputs": [],
   "source": [
    "cmaks_compute"
   ]
  },
  {
   "cell_type": "code",
   "execution_count": null,
   "metadata": {},
   "outputs": [],
   "source": [
    "cmaks_compute.detach()"
   ]
  },
  {
   "cell_type": "code",
   "execution_count": null,
   "metadata": {},
   "outputs": [],
   "source": [
    "# validate whether compute is attached\n",
    "print(\"compute targets after attach:\\n\")\n",
    "for targetName in ws.compute_targets:\n",
    "    print(targetName)"
   ]
  }
 ],
 "metadata": {
  "kernelspec": {
   "display_name": "Python 3.8.3 64-bit",
   "language": "python",
   "name": "python38364bit6e434c8ea52a4c159b94b3390ba2942e"
  },
  "language_info": {
   "codemirror_mode": {
    "name": "ipython",
    "version": 3
   },
   "file_extension": ".py",
   "mimetype": "text/x-python",
   "name": "python",
   "nbconvert_exporter": "python",
   "pygments_lexer": "ipython3",
   "version": "3.8.3"
  }
 },
 "nbformat": 4,
 "nbformat_minor": 4
}
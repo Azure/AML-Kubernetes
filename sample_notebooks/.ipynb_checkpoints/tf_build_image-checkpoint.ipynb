{
 "cells": [
  {
   "cell_type": "code",
   "execution_count": 10,
   "metadata": {},
   "outputs": [
    {
     "name": "stdout",
     "output_type": "stream",
     "text": [
      "The azureml-sdk version is 1.6.0\n"
     ]
    }
   ],
   "source": [
    "from azureml.core import Workspace, Environment\n",
    "import os\n",
    "from azureml.core import Workspace\n",
    "from azureml.core import Experiment\n",
    "from azureml.core.compute import ComputeTarget\n",
    "from azureml.contrib.core.compute.itpcompute import ItpCompute\n",
    "from azureml.core.container_registry import ContainerRegistry\n",
    "from azureml.core.runconfig import TensorflowConfiguration\n",
    "from azureml.train.dnn import TensorFlow\n",
    "import azureml.core\n",
    "print(f\"The azureml-sdk version is {azureml.core.VERSION}\")"
   ]
  },
  {
   "cell_type": "code",
   "execution_count": 11,
   "metadata": {},
   "outputs": [],
   "source": [
    "ws = Workspace.from_config()\n",
    "# env = Environment.get(workspace=ws, name=\"AzureML-Minimal\")\n",
    "myenv = Environment(name=\"myenv\")"
   ]
  },
  {
   "cell_type": "code",
   "execution_count": 12,
   "metadata": {},
   "outputs": [],
   "source": [
    "# Creates the environment inside a Docker container.\n",
    "myenv.docker.enabled = True"
   ]
  },
  {
   "cell_type": "code",
   "execution_count": 13,
   "metadata": {},
   "outputs": [],
   "source": [
    "script_folder = './tf-mnist'"
   ]
  },
  {
   "cell_type": "code",
   "execution_count": 19,
   "metadata": {},
   "outputs": [
    {
     "name": "stderr",
     "output_type": "stream",
     "text": [
      "WARNING - Property base_dockerfile is mutually exclusive with base_image. Reset base_dockerfile to None\n",
      "WARNING - Property base_image is mutually exclusive with base_dockerfile. Reset base_image to None\n"
     ]
    }
   ],
   "source": [
    "dockerfile = r\"\"\"\n",
    "FROM tensorflow/tensorflow:1.15.0-gpu-py3\n",
    "\n",
    "RUN pip install azureml.core\n",
    "\"\"\"\n",
    "myenv.docker.base_image = None\n",
    "myenv.docker.base_dockerfile = dockerfile"
   ]
  },
  {
   "cell_type": "code",
   "execution_count": 15,
   "metadata": {},
   "outputs": [],
   "source": [
    "distributed_training = TensorflowConfiguration()\n",
    "distributed_training.parameter_server_count = 1\n",
    "distributed_training.worker_count = 2\n",
    "tf_est = TensorFlow(source_directory=script_folder,\n",
    "                    entry_script='tf_mnist_dist.py',\n",
    "                    compute_target='cmakstest',\n",
    "#                     image_registry_details=container_registry,\n",
    "#                     custom_docker_image=\"tensorflow-test/tf-dist-mnist-test:gpu\",\n",
    "                    user_managed=True,\n",
    "                    node_count=1,\n",
    "                    process_count_per_node=1,\n",
    "                    distributed_training=distributed_training,\n",
    "                    use_gpu=True)"
   ]
  },
  {
   "cell_type": "code",
   "execution_count": 16,
   "metadata": {},
   "outputs": [],
   "source": [
    "tf_est.run_config.environment = myenv"
   ]
  },
  {
   "cell_type": "code",
   "execution_count": 17,
   "metadata": {},
   "outputs": [],
   "source": [
    "exp = Experiment(workspace=ws, name='tf-mnist-15')"
   ]
  },
  {
   "cell_type": "code",
   "execution_count": 18,
   "metadata": {},
   "outputs": [],
   "source": [
    "run = exp.submit(tf_est)\n",
    "# run.wait_for_completion(show_output=True)"
   ]
  },
  {
   "cell_type": "code",
   "execution_count": null,
   "metadata": {},
   "outputs": [],
   "source": []
  }
 ],
 "metadata": {
  "kernelspec": {
   "display_name": "Python 3.8.2 64-bit",
   "language": "python",
   "name": "python38264bitc5bd52a36f1949a7bfdb58ce6acf84f4"
  },
  "language_info": {
   "codemirror_mode": {
    "name": "ipython",
    "version": 3
   },
   "file_extension": ".py",
   "mimetype": "text/x-python",
   "name": "python",
   "nbconvert_exporter": "python",
   "pygments_lexer": "ipython3",
   "version": "3.8.2"
  }
 },
 "nbformat": 4,
 "nbformat_minor": 4
}

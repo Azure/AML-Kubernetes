{
 "cells": [
  {
   "cell_type": "code",
   "execution_count": null,
   "metadata": {
    "tags": []
   },
   "outputs": [],
   "source": [
    "from azureml.core import Workspace\n",
    "\n",
    "ws = Workspace.from_config()\n",
    "ws"
   ]
  },
  {
   "cell_type": "code",
   "execution_count": null,
   "metadata": {
    "tags": []
   },
   "outputs": [],
   "source": [
    "import git\n",
    "\n",
    "# get root of git repo\n",
    "prefix = git.Repo('.', search_parent_directories=True).working_tree_dir\n",
    "print(prefix)\n",
    "# training script \n",
    "script_dir = prefix+'/sample_notebooks/009 MLFlow/fastai/mnist-resnet18/'\n",
    "script_name = 'train.py'\n",
    "\n",
    "# environment file\n",
    "environment_file = prefix+'/sample_notebooks/009 MLFlow/fastai/fastai-example.yml'\n",
    "\n",
    "# azure ml settings\n",
    "environment_name = 'fastai-mnist-example'\n",
    "experiment_name = 'fastai-mnist-example'\n",
    "#compute_target = 'akstest-cpu'"
   ]
  },
  {
   "cell_type": "code",
   "execution_count": null,
   "metadata": {},
   "outputs": [],
   "source": [
    "from azureml.core.compute import ComputeTarget, AmlCompute\n",
    "from azureml.core.compute_target import ComputeTargetException\n",
    "from azureml.contrib.core.compute.cmakscompute import CmAksCompute\n",
    "\n",
    "compute_name = 'akstest-cpu'\n",
    "compute_target = ComputeTarget(workspace=ws, name=compute_name)"
   ]
  },
  {
   "cell_type": "code",
   "execution_count": null,
   "metadata": {
    "tags": []
   },
   "outputs": [],
   "source": [
    "print(open(script_dir+script_name).read())"
   ]
  },
  {
   "cell_type": "code",
   "execution_count": null,
   "metadata": {},
   "outputs": [],
   "source": [
    "from azureml.core import ScriptRunConfig, Experiment, Environment\n",
    "\n",
    "env = Environment.from_conda_specification(environment_name, environment_file)\n",
    "env.docker.enabled = True\n",
    "\n",
    "src = ScriptRunConfig(source_directory=script_dir, script=script_name)\n",
    "src.run_config.environment = env\n",
    "src.run_config.target = compute_target\n",
    "\n",
    "run = Experiment(ws, experiment_name).submit(src)\n",
    "run"
   ]
  },
  {
   "cell_type": "code",
   "execution_count": null,
   "metadata": {},
   "outputs": [],
   "source": [
    "from azureml.widgets import RunDetails\n",
    "\n",
    "RunDetails(run).show()"
   ]
  },
  {
   "cell_type": "code",
   "execution_count": null,
   "metadata": {
    "tags": []
   },
   "outputs": [],
   "source": [
    "run.wait_for_completion(show_output=True)"
   ]
  }
 ],
 "metadata": {
  "index": {
   "compute": "AML - CPU",
   "dataset": "mnist",
   "distribution": "None",
   "environment": "conda file",
   "frameworks": "fastai, mlflow",
   "other": "None",
   "scenario": "training"
  },
  "kernelspec": {
   "display_name": "Python 3.7.7 64-bit ('cmaks-0819': conda)",
   "name": "python_defaultSpec_1599621763340"
  },
  "language_info": {
   "codemirror_mode": {
    "name": "ipython",
    "version": 3
   },
   "file_extension": ".py",
   "mimetype": "text/x-python",
   "name": "python",
   "nbconvert_exporter": "python",
   "pygments_lexer": "ipython3",
   "version": "3.7.7-final"
  }
 },
 "nbformat": 4,
 "nbformat_minor": 2
}
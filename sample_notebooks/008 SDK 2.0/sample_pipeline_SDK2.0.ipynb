{
 "cells": [
  {
   "cell_type": "code",
   "execution_count": null,
   "metadata": {},
   "outputs": [],
   "source": [
    "# install AML SDK\n",
    "pip install --upgrade azureml-sdk"
   ]
  },
  {
   "cell_type": "code",
   "execution_count": null,
   "metadata": {},
   "outputs": [],
   "source": [
    "# install CMAKS SDK\n",
    "pip install --disable-pip-version-check --extra-index-url https://azuremlsdktestpypi.azureedge.net/CmAks-Compute-Test/D58E86006C65 azureml-pipeline-steps azureml-contrib-pipeline-steps azureml_contrib_itp --upgrade"
   ]
  },
  {
   "cell_type": "code",
   "execution_count": null,
   "metadata": {},
   "outputs": [],
   "source": [
    "# install SDK 2.0\n",
    "!pip install azureml-pipeline-wrapper[steps,notebooks]==0.1.0.15254362 --extra-index-url https://azuremlsdktestpypi.azureedge.net/CLI-SDK-Runners-Validation/15254362 --user --upgrade"
   ]
  },
  {
   "cell_type": "code",
   "execution_count": null,
   "metadata": {},
   "outputs": [],
   "source": [
    "# define resource used\n",
    "workspace_name = <your workspace name>\n",
    "sub_id = <sub id>\n",
    "resource_group = <resource group>\n",
    "cmaks_compute = <cmaks compute>"
   ]
  },
  {
   "cell_type": "code",
   "execution_count": null,
   "metadata": {},
   "outputs": [],
   "source": [
    "from azureml.core import Workspace, Run, Dataset\n",
    "from azureml.pipeline.wrapper import Pipeline, dsl, Module\n",
    "\n",
    "# change to your ws space info\n",
    "ws = Workspace.get(name=workspace_name, subscription_id=sub_id, resource_group=resource_group)\n",
    "\n",
    "train_module_func = Module.from_yaml(ws, './train-score-eval/train.yaml')\n",
    "score_module_func = Module.from_yaml(ws, './train-score-eval/score.yaml')\n",
    "eval_module_func = Module.from_yaml(ws, './train-score-eval/eval.yaml')\n",
    "compare_module_func = Module.from_yaml(ws, './train-score-eval/compare2.yaml')\n",
    "\n",
    "train_data = Dataset.get_by_name(ws, 'training_data')\n",
    "test_data = Dataset.get_by_name(ws, 'test_data')"
   ]
  },
  {
   "cell_type": "code",
   "execution_count": null,
   "metadata": {},
   "outputs": [],
   "source": [
    "# define a sub pipeline\n",
    "@dsl.pipeline(name = 'Train-Score-Eval', \n",
    "              description = 'train model and evaluate model perf')\n",
    "def training_pipeline(input_data, learning_rate):\n",
    "    train = train_module_func(\n",
    "        training_data=input_data, \n",
    "        max_epochs=5, \n",
    "        learning_rate=learning_rate)\n",
    "   \n",
    "    score = score_module_func(\n",
    "        model_input=train.outputs.model_output, \n",
    "        test_data=test_data)\n",
    "\n",
    "    eval = eval_module_func(scoring_result=score.outputs.score_output)\n",
    "\n",
    "    return {'eval_output': eval.outputs.eval_output, 'model_output': train.outputs.model_output}"
   ]
  },
  {
   "cell_type": "code",
   "execution_count": null,
   "metadata": {},
   "outputs": [],
   "source": [
    "# import cmakscompute, if don't, can't find cmaks compute\n",
    "from azureml.contrib.core.compute.cmakscompute import CmAksCompute"
   ]
  },
  {
   "cell_type": "code",
   "execution_count": null,
   "metadata": {},
   "outputs": [],
   "source": [
    "# define pipeline with sub pipeline\n",
    "@dsl.pipeline(name = 'Dummy automl pipeline - aks', \n",
    "              description = 'select best model trained with different learning rate',\n",
    "              default_compute_target = cmaks_compute)\n",
    "def dummy_automl_pipeline():\n",
    "    train_and_evalute_model1 = training_pipeline(train_data, 0.01)\n",
    "    train_and_evalute_model2 = training_pipeline(train_data, 0.02)\n",
    "    \n",
    "    compare = compare_module_func(\n",
    "        model1=train_and_evalute_model1.outputs.model_output, \n",
    "        eval_result1=train_and_evalute_model1.outputs.eval_output,\n",
    "        model2=train_and_evalute_model2.outputs.model_output,\n",
    "        eval_result2=train_and_evalute_model2.outputs.eval_output\n",
    "    )\n",
    "\n",
    "    return {**compare.outputs}\n",
    "\n",
    "# create a pipeline\n",
    "pipeline = dummy_automl_pipeline()"
   ]
  },
  {
   "cell_type": "code",
   "execution_count": null,
   "metadata": {},
   "outputs": [],
   "source": [
    "#pipeline.validate()"
   ]
  },
  {
   "cell_type": "code",
   "execution_count": null,
   "metadata": {},
   "outputs": [],
   "source": [
    "pipeline.submit(experiment_name='samples')"
   ]
  },
  {
   "cell_type": "code",
   "execution_count": null,
   "metadata": {},
   "outputs": [],
   "source": []
  }
 ],
 "metadata": {
  "kernelspec": {
   "display_name": "Python 3",
   "language": "python",
   "name": "python3"
  },
  "language_info": {
   "codemirror_mode": {
    "name": "ipython",
    "version": 3
   },
   "file_extension": ".py",
   "mimetype": "text/x-python",
   "name": "python",
   "nbconvert_exporter": "python",
   "pygments_lexer": "ipython3",
   "version": "3.8.2"
  }
 },
 "nbformat": 4,
 "nbformat_minor": 4
}

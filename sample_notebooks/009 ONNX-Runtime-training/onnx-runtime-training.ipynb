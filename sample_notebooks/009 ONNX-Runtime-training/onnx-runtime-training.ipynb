{
  "cells": [
    {
      "cell_type": "markdown",
      "metadata": {},
      "source": [
        "Copyright (c) Microsoft Corporation. All rights reserved.\n",
        "\n",
        "Licensed under the MIT License."
      ]
    },
    {
      "cell_type": "markdown",
      "metadata": {},
      "source": [
        "![Impressions](https://PixelServer20190423114238.azurewebsites.net/api/impressions/CMK8s-Samples/sample_notebooks/009%20ONNX-Runtime-training/onnx-runtime-training.png)"
      ]
    },
    {
      "cell_type": "markdown",
      "metadata": {},
      "source": [
        "#  Use ONNX Runtime training\n",
        "\n",
        "This tutorial is an example to submit an ORT training job. Compared with normal training job, the only thing you need is the ORT Training docker image. ITP team has built the ORT Training image to ITP container registry. Please reach out to ITP team if you need access."
      ]
    },
    {
      "cell_type": "markdown",
      "metadata": {},
      "source": [
        "## Prerequisites\n",
        "If you are using an Azure Machine Learning Notebook VM, you are all set. Otherwise, make sure you go through the configuration notebook to install the Azure Machine Learning Python SDK and create a workspace.\n",
        "\n",
        "Please make sure the following packages are installed to submit training job to ITP compute.\n"
      ]
    },
    {
      "cell_type": "code",
      "execution_count": null,
      "metadata": {},
      "outputs": [],
      "source": [
        "# install CMAKS SDK\n",
        "pip install --disable-pip-version-check --extra-index-url https://azuremlsdktestpypi.azureedge.net/CmAks-Compute-Test/D58E86006C65 azureml-pipeline-steps azureml-contrib-pipeline-steps azureml_contrib_itp --upgrade"
      ]
    },
    {
      "cell_type": "markdown",
      "metadata": {},
      "source": [
        "## Initialize workspace\n",
        "\n",
        "Create a workspace object from the existing workspace. A [Workspace](https://docs.microsoft.com/python/api/azureml-core/azureml.core.workspace.workspace?view=azure-ml-py) is a class that accepts your Azure subscription and resource information. It also creates a cloud resource to monitor and track your model runs. `Workspace.from_config()` reads the file **config.json** and loads the authentication details into an object named `ws`. `ws` is used throughout the rest of the code in this tutorial."
      ]
    },
    {
      "cell_type": "code",
      "execution_count": null,
      "metadata": {
        "tags": [
          "create workspace"
        ]
      },
      "outputs": [],
      "source": [
        "from azureml.core import Workspace\n",
        "\n",
        "ws = Workspace.from_config()\n",
        "print(ws.name, ws.resource_group, ws.location, ws.subscription_id, sep='\\n')"
      ]
    },
    {
      "cell_type": "markdown",
      "metadata": {},
      "source": [
        "## Create Experiment\n",
        "\n",
        "**Experiment** is a logical container in an Azure ML Workspace. It hosts run records which can include run metrics and output artifacts from your experiments."
      ]
    },
    {
      "cell_type": "code",
      "execution_count": null,
      "metadata": {},
      "outputs": [],
      "source": [
        "from azureml.core import Experiment\n",
        "experiment_name = 'orttraining-cmaks'\n",
        "experiment = Experiment(workspace = ws, name = experiment_name)"
      ]
    },
    {
      "cell_type": "markdown",
      "metadata": {},
      "source": [
        "## Specify CMAKS compute target\n",
        "\n",
        "List all of the ITP compute targets in your workspace."
      ]
    },
    {
      "cell_type": "code",
      "execution_count": null,
      "metadata": {},
      "outputs": [],
      "source": [
        "from azureml.core.compute import ComputeTarget\n",
        "from azureml.contrib.core.compute.cmakscompute import CmAksCompute\n",
        "for key, target in ws.compute_targets.items():\n",
        "    if type(target) is CmAksCompute:\n",
        "        print('Found compute target:{}\\ttype:{}\\tprovisioning_state:{}\\tlocation:{}'.format(target.name, target.type, target.provisioning_state, target.location))"
      ]
    },
    {
      "cell_type": "markdown",
      "metadata": {},
      "source": [
        "Specify one of your CMASK compute targets."
      ]
    },
    {
      "cell_type": "code",
      "execution_count": null,
      "metadata": {},
      "outputs": [],
      "source": [
        "# specify your CMAKS compute\n",
        "compute_name = <compute_name>\n",
        "compute_target = ComputeTarget(workspace=ws, name=compute_name)"
      ]
    },
    {
      "cell_type": "markdown",
      "metadata": {},
      "source": [
        "## Training on CMAKS compute\n",
        "\n",
        "### Create project directory\n",
        "\n",
        "Create a directory that will contain all the necessary code that you will need access to on the remote resource. This includes the training script and any additional files your training script depends on.\n"
      ]
    },
    {
      "cell_type": "code",
      "execution_count": null,
      "metadata": {},
      "outputs": [],
      "source": [
        "import os\n",
        "import shutil\n",
        "\n",
        "project_folder = './orttraining'\n",
        "os.makedirs(project_folder, exist_ok=True)\n",
        "shutil.copy('mnist_training.py', project_folder)"
      ]
    },
    {
      "cell_type": "markdown",
      "metadata": {},
      "source": [
        "### Create Estimator\n",
        "\n",
        "To host ORT training job, you need to leverage `ContainerRegistry` to specify your custom ORT training docker image. If you don't have that image, please reach out to ITP team to get access to ITP container registry.\n"
      ]
    },
    {
      "cell_type": "code",
      "execution_count": null,
      "metadata": {},
      "outputs": [],
      "source": [
        "from azureml.core.container_registry import ContainerRegistry\n",
        "from azureml.train.estimator import Estimator\n",
        "\n",
        "container_registry = ContainerRegistry()\n",
        "\n",
        "#please replace by your own container registry information\n",
        "container_registry.address = \"philly2aml.azurecr.io\"\n",
        "container_registry.username = \"6b5ec445-f666-4cd1-812c-d9ebb0d83413\"\n",
        "# container_registry.password = \"<secret>\"\n",
        "\n",
        "container_registry.password = '7aef69c0-9248-484b-96bf-2e05565445fe'\n",
        "\n",
        "\n",
        "est = Estimator(\n",
        "    compute_target=compute_target,\n",
        "    use_gpu=True,\n",
        "    image_registry_details=container_registry,\n",
        "    custom_docker_image=\"ort_pytorch:latest\",\n",
        "    user_managed=True,\n",
        "    source_directory=project_folder,\n",
        "    entry_script=\"mnist_training.py\"\n",
        ")\n"
      ]
    },
    {
      "cell_type": "markdown",
      "metadata": {},
      "source": [
        "### Submit training job"
      ]
    },
    {
      "cell_type": "code",
      "execution_count": null,
      "metadata": {},
      "outputs": [],
      "source": [
        "run = experiment.submit(est)\n",
        "run"
      ]
    },
    {
      "cell_type": "markdown",
      "metadata": {},
      "source": [
        "Note: if you need to cancel a run, you can follow [these instructions](https://aka.ms/aml-docs-cancel-run)."
      ]
    }
  ],
  "metadata": {
    "authors": [
      {
        "name": "nigup"
      }
    ],
    "category": "training",
    "compute": [
      "AML Compute"
    ],
    "datasets": [
      "Diabetes"
    ],
    "deployment": [
      "None"
    ],
    "exclude_from_index": false,
    "framework": [
      "None"
    ],
    "friendly_name": "Train on Azure Machine Learning Compute",
    "index_order": 1,
    "kernelspec": {
      "display_name": "Python 3.8.2 64-bit",
      "language": "python",
      "name": "python38264bitc5bd52a36f1949a7bfdb58ce6acf84f4"
    },
    "language_info": {
      "codemirror_mode": {
        "name": "ipython",
        "version": 3
      },
      "file_extension": ".py",
      "mimetype": "text/x-python",
      "name": "python",
      "nbconvert_exporter": "python",
      "pygments_lexer": "ipython3",
      "version": "3.8.2-final"
    },
    "tags": [
      "None"
    ],
    "task": "Submit a run on Azure Machine Learning Compute."
  },
  "nbformat": 4,
  "nbformat_minor": 2
}
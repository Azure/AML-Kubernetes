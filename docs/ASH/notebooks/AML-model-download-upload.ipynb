{
 "cells": [
  {
   "cell_type": "markdown",
   "metadata": {},
   "source": [
    "# Upload Downloaded AML Model Files To Azure Blobs\n",
    "\n",
    "In this notebook, you will download a model from azure machine learning workspace to your local envrionment, then upload the model files as azure storage blobs.\n",
    "\n",
    "## Prerequisites\n",
    "*  Azure Machine Learning Workspace\n",
    "If you are using an Azure Machine Learning Notebook VM, you are all set. Otherwise, go through the [AZML-SDK-INSTALL](https://docs.microsoft.com/en-us/python/api/overview/azure/ml/install?view=azure-ml-py)  to install the Azure Machine Learning Python SDK and create an Azure ML `Workspace`.\n",
    "*  An registered AML machine learning model. For how to train and register model, please see [tf2-cifar10-train](distributed-tf2-cifar10/distributed-tf2-cifar10.ipynb)\n",
    "*  Azure storage blob client library. For more details, please see [here](https://docs.microsoft.com/en-us/python/api/overview/azure/storage-blob-readme?view=azure-python). "
   ]
  },
  {
   "cell_type": "code",
   "execution_count": null,
   "metadata": {},
   "outputs": [],
   "source": [
    "from azureml.core import Workspace\n",
    "import os"
   ]
  },
  {
   "cell_type": "markdown",
   "metadata": {},
   "source": [
    "## Initialize workspace\n",
    "\n",
    "Initialize a [Workspace](https://docs.microsoft.com/azure/machine-learning/service/concept-azure-machine-learning-architecture#workspace) object from the existing workspace you created in the Prerequisites step. `Workspace.from_config()` creates a workspace object from the details stored in `config.json`. \n",
    "\n",
    "If you haven't done already please go to `config.json` file and fill in your workspace information."
   ]
  },
  {
   "cell_type": "code",
   "execution_count": null,
   "metadata": {},
   "outputs": [],
   "source": [
    "ws = Workspace.from_config()\n",
    "print('Workspace name: ' + ws.name, \n",
    "      'Azure region: ' + ws.location, \n",
    "      'Subscription id: ' + ws.subscription_id, \n",
    "      'Resource group: ' + ws.resource_group, sep='\\n')"
   ]
  },
  {
   "cell_type": "markdown",
   "metadata": {},
   "source": [
    "## Download model from AML Workspace"
   ]
  },
  {
   "cell_type": "code",
   "execution_count": null,
   "metadata": {},
   "outputs": [],
   "source": [
    "model_path = 'cifar10model'\n",
    "model_name = \"slcifar10\"\n",
    "\n",
    "ws.models[model_name].download(target_dir=model_path, exist_ok=True)"
   ]
  },
  {
   "cell_type": "code",
   "execution_count": null,
   "metadata": {},
   "outputs": [],
   "source": [
    "from azure.storage.blob import BlobServiceClient\n",
    "    \n",
    "connection_string = \"<storage account connection string>\"\n",
    "blob_service_client = BlobServiceClient.from_connection_string(connection_string)\n",
    "    \n",
    "container_name = \"tfmodel\"\n",
    "container_client = blob_service_client.get_container_client(container_name)\n",
    "\n",
    "for root, dirs, files in os.walk(model_path):\n",
    "    for file in files:\n",
    "        source_file = os.path.join(root, file)\n",
    "        blob_name = source_file\n",
    "        blob_client = container_client.get_blob_client(blob_name)\n",
    "        with open(source_file, \"rb\") as data:\n",
    "            blob_client.upload_blob(data, blob_type=\"BlockBlob\")"
   ]
  },
  {
   "cell_type": "markdown",
   "metadata": {},
   "source": [
    "Now you should see the files are uploaded to Blob Storage"
   ]
  }
 ],
 "metadata": {
  "kernelspec": {
   "display_name": "pythonProject",
   "language": "python",
   "name": "pythonproject"
  },
  "language_info": {
   "codemirror_mode": {
    "name": "ipython",
    "version": 3
   },
   "file_extension": ".py",
   "mimetype": "text/x-python",
   "name": "python",
   "nbconvert_exporter": "python",
   "pygments_lexer": "ipython3",
   "version": "3.8.5"
  }
 },
 "nbformat": 4,
 "nbformat_minor": 4
}
